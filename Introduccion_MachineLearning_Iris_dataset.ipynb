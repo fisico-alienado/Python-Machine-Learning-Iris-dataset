{
 "cells": [
  {
   "cell_type": "markdown",
   "id": "c62f6434",
   "metadata": {},
   "source": [
    "# IRIS DATASET: ¿Qué es? "
   ]
  },
  {
   "cell_type": "markdown",
   "id": "3f8bdeeb",
   "metadata": {},
   "source": [
    "<b>Es un set de datos muy típico en Machine Learning para principiantes</b>"
   ]
  },
  {
   "cell_type": "markdown",
   "id": "b21b8311",
   "metadata": {},
   "source": [
    "### Nota: Instrucción utilizada en el CMD para transformarlo en pdf.\n",
    "<code>jupyter nbconvert --to webpdf --allow-chromium-download Introduccion_MachineLearning_Iris_dataset.ipynb</code>\n",
    "\n",
    "<code>jupyter nbconvert --to pdf --allow-chromium-download Introduccion_MachineLearning_Iris_dataset.ipynb</code>\n",
    "\n",
    "<code>jupyter nbconvert --to pdf Introduccion_MachineLearning_Iris_dataset.ipynb</code>\n",
    "\n",
    "https://towardsdatascience.com/how-to-convert-jupyter-notebooks-into-pdf-5accaef3758\n",
    "\n",
    "https://www.ctan.org/pkg/ltxcmds\n",
    "\n"
   ]
  },
  {
   "cell_type": "markdown",
   "id": "11a1f4d5",
   "metadata": {},
   "source": [
    "# 1. Obtención de Datos: "
   ]
  },
  {
   "cell_type": "markdown",
   "id": "3bbf21da",
   "metadata": {},
   "source": [
    "Para hacerlo simple, lo haremos de una determinada manera, pero sabiendo que hay más formas de obtener datos:\n",
    "\n",
    "<ul>\n",
    "    <li>mediante scrapeo web</li>\n",
    "    <li>conectándonos a las APIs</li>\n",
    "</ul>\n",
    "\n",
    "Este dataset se basa en un conjunto de datos que contiene 50 muestras de cada una de las tres especies de Iris (Iris setosa, Iris virgínica e Iris versicolor).\n",
    "\n",
    "Para el estudio se midieron cuatro rasgos de cada muestra: el largo y ancho, tanto para el sépalo como para el pétalo (todo ello en cm)."
   ]
  },
  {
   "cell_type": "markdown",
   "id": "c6b19543",
   "metadata": {},
   "source": [
    "## 1.1. Una posible forma de extraer los datos"
   ]
  },
  {
   "cell_type": "code",
   "execution_count": 1,
   "id": "50ac89f4",
   "metadata": {
    "ExecuteTime": {
     "end_time": "2021-07-05T17:55:31.197127Z",
     "start_time": "2021-07-05T17:55:31.180174Z"
    }
   },
   "outputs": [],
   "source": [
    "# Nos vamos a este link:\n",
    "# https://archive.ics.uci.edu/ml/datasets/iris\n",
    "\n",
    "# Download: Data Folder, Data Set Description\n",
    "# Nos iríamos a: Data Folder\n",
    "# y de ahí obtenemos los datos."
   ]
  },
  {
   "cell_type": "markdown",
   "id": "c8d7a0c7",
   "metadata": {},
   "source": [
    "## 1.2. Otra posible forma de extraer los datos - Desde la plataforma sklearn"
   ]
  },
  {
   "cell_type": "code",
   "execution_count": 2,
   "id": "dffdab82",
   "metadata": {
    "ExecuteTime": {
     "end_time": "2021-07-05T17:55:32.361765Z",
     "start_time": "2021-07-05T17:55:31.200122Z"
    },
    "scrolled": false
   },
   "outputs": [],
   "source": [
    "# 2ª forma de obtener el dataset:\n",
    "\n",
    "# http://scikit-learn.org/stable/modules/generated/sklearn.datasets.load_iris.html#sklearn.datasets.load_iris\n",
    "\n",
    "# Previamente en el CMD, si no estaba instalado el paquete previamente:\n",
    "# pip install sklearn\n",
    "\n",
    "from sklearn import datasets\n",
    "\n",
    "iris = datasets.load_iris()\n",
    "#iris"
   ]
  },
  {
   "cell_type": "code",
   "execution_count": 3,
   "id": "ef62667f",
   "metadata": {
    "ExecuteTime": {
     "end_time": "2021-07-05T17:55:32.377208Z",
     "start_time": "2021-07-05T17:55:32.364242Z"
    }
   },
   "outputs": [],
   "source": [
    "#iris.data"
   ]
  },
  {
   "cell_type": "code",
   "execution_count": 4,
   "id": "8bf0e891",
   "metadata": {
    "ExecuteTime": {
     "end_time": "2021-07-05T17:55:32.409122Z",
     "start_time": "2021-07-05T17:55:32.383199Z"
    }
   },
   "outputs": [
    {
     "data": {
      "text/plain": [
       "array([0, 0, 0, 0, 0, 0, 0, 0, 0, 0, 0, 0, 0, 0, 0, 0, 0, 0, 0, 0, 0, 0,\n",
       "       0, 0, 0, 0, 0, 0, 0, 0, 0, 0, 0, 0, 0, 0, 0, 0, 0, 0, 0, 0, 0, 0,\n",
       "       0, 0, 0, 0, 0, 0, 1, 1, 1, 1, 1, 1, 1, 1, 1, 1, 1, 1, 1, 1, 1, 1,\n",
       "       1, 1, 1, 1, 1, 1, 1, 1, 1, 1, 1, 1, 1, 1, 1, 1, 1, 1, 1, 1, 1, 1,\n",
       "       1, 1, 1, 1, 1, 1, 1, 1, 1, 1, 1, 1, 2, 2, 2, 2, 2, 2, 2, 2, 2, 2,\n",
       "       2, 2, 2, 2, 2, 2, 2, 2, 2, 2, 2, 2, 2, 2, 2, 2, 2, 2, 2, 2, 2, 2,\n",
       "       2, 2, 2, 2, 2, 2, 2, 2, 2, 2, 2, 2, 2, 2, 2, 2, 2, 2])"
      ]
     },
     "execution_count": 4,
     "metadata": {},
     "output_type": "execute_result"
    }
   ],
   "source": [
    "iris.target\n",
    "# 'target_names': array(['setosa', 'versicolor', 'virginica'], dtype='<U10')\n",
    "# El 0 se refiere al tipo 'setosa', el 1 al 'versicolor' y el 2 a 'virginica'."
   ]
  },
  {
   "cell_type": "markdown",
   "id": "6798d385",
   "metadata": {},
   "source": [
    "## 1.3. Nuestro caso - Proporcionar y utilizar el .csv diréctamente "
   ]
  },
  {
   "cell_type": "code",
   "execution_count": 5,
   "id": "adf72006",
   "metadata": {
    "ExecuteTime": {
     "end_time": "2021-07-05T17:55:32.424499Z",
     "start_time": "2021-07-05T17:55:32.412526Z"
    }
   },
   "outputs": [],
   "source": [
    "# La forma que usaremos será la obtención de datos desde el CSV."
   ]
  },
  {
   "cell_type": "markdown",
   "id": "2eb0608a",
   "metadata": {},
   "source": [
    "# 2. Importamos algunas dependencias generales "
   ]
  },
  {
   "cell_type": "code",
   "execution_count": 6,
   "id": "a161189e",
   "metadata": {
    "ExecuteTime": {
     "end_time": "2021-07-05T17:55:33.198675Z",
     "start_time": "2021-07-05T17:55:32.430468Z"
    }
   },
   "outputs": [],
   "source": [
    "import pandas as pd\n",
    "import numpy as np\n",
    "import matplotlib.pyplot as plt"
   ]
  },
  {
   "cell_type": "markdown",
   "id": "9e734b67",
   "metadata": {},
   "source": [
    "# 3. Hacemos uso de pandas para importar la información .csv "
   ]
  },
  {
   "cell_type": "code",
   "execution_count": 1,
   "id": "5fafd546",
   "metadata": {
    "ExecuteTime": {
     "end_time": "2021-07-11T15:08:27.859200Z",
     "start_time": "2021-07-11T15:08:27.852220Z"
    }
   },
   "outputs": [],
   "source": [
    "# PEGAMOS LA RUTA DONDE ESTÁ EL .csv CON LOS DATOS DE IRIS EN NUESTRO PC. Por ejemplo:\n",
    "# C:\\Users\\RUBEN\\Desktop\\Machine Learning\n",
    "# y usamos '/' en vez de '\\'\n",
    "\n",
    "# En mi caso:\n",
    "# C:/Users/RUBEN/Desktop/Machine Learning/ (ruta)\n",
    "# 2_IrisSpecies.csv (nombre del documento con extensión .csv)\n",
    "\n",
    "# df (nombre que damos al DataFrame exportado)\n",
    "# .head() nos permite imprimir las primeras 5 líneas"
   ]
  },
  {
   "cell_type": "code",
   "execution_count": 8,
   "id": "936b7741",
   "metadata": {
    "ExecuteTime": {
     "end_time": "2021-07-05T17:55:33.260931Z",
     "start_time": "2021-07-05T17:55:33.218484Z"
    }
   },
   "outputs": [
    {
     "data": {
      "text/html": [
       "<div>\n",
       "<style scoped>\n",
       "    .dataframe tbody tr th:only-of-type {\n",
       "        vertical-align: middle;\n",
       "    }\n",
       "\n",
       "    .dataframe tbody tr th {\n",
       "        vertical-align: top;\n",
       "    }\n",
       "\n",
       "    .dataframe thead th {\n",
       "        text-align: right;\n",
       "    }\n",
       "</style>\n",
       "<table border=\"1\" class=\"dataframe\">\n",
       "  <thead>\n",
       "    <tr style=\"text-align: right;\">\n",
       "      <th></th>\n",
       "      <th>Id</th>\n",
       "      <th>SepalLengthCm</th>\n",
       "      <th>SepalWidthCm</th>\n",
       "      <th>PetalLengthCm</th>\n",
       "      <th>PetalWidthCm</th>\n",
       "      <th>Species</th>\n",
       "    </tr>\n",
       "  </thead>\n",
       "  <tbody>\n",
       "    <tr>\n",
       "      <th>0</th>\n",
       "      <td>1</td>\n",
       "      <td>5.1</td>\n",
       "      <td>3.5</td>\n",
       "      <td>1.4</td>\n",
       "      <td>0.2</td>\n",
       "      <td>Iris-setosa</td>\n",
       "    </tr>\n",
       "    <tr>\n",
       "      <th>1</th>\n",
       "      <td>2</td>\n",
       "      <td>4.9</td>\n",
       "      <td>3.0</td>\n",
       "      <td>1.4</td>\n",
       "      <td>0.2</td>\n",
       "      <td>Iris-setosa</td>\n",
       "    </tr>\n",
       "    <tr>\n",
       "      <th>2</th>\n",
       "      <td>3</td>\n",
       "      <td>4.7</td>\n",
       "      <td>3.2</td>\n",
       "      <td>1.3</td>\n",
       "      <td>0.2</td>\n",
       "      <td>Iris-setosa</td>\n",
       "    </tr>\n",
       "    <tr>\n",
       "      <th>3</th>\n",
       "      <td>4</td>\n",
       "      <td>4.6</td>\n",
       "      <td>3.1</td>\n",
       "      <td>1.5</td>\n",
       "      <td>0.2</td>\n",
       "      <td>Iris-setosa</td>\n",
       "    </tr>\n",
       "    <tr>\n",
       "      <th>4</th>\n",
       "      <td>5</td>\n",
       "      <td>5.0</td>\n",
       "      <td>3.6</td>\n",
       "      <td>1.4</td>\n",
       "      <td>0.2</td>\n",
       "      <td>Iris-setosa</td>\n",
       "    </tr>\n",
       "  </tbody>\n",
       "</table>\n",
       "</div>"
      ],
      "text/plain": [
       "   Id  SepalLengthCm  SepalWidthCm  PetalLengthCm  PetalWidthCm      Species\n",
       "0   1            5.1           3.5            1.4           0.2  Iris-setosa\n",
       "1   2            4.9           3.0            1.4           0.2  Iris-setosa\n",
       "2   3            4.7           3.2            1.3           0.2  Iris-setosa\n",
       "3   4            4.6           3.1            1.5           0.2  Iris-setosa\n",
       "4   5            5.0           3.6            1.4           0.2  Iris-setosa"
      ]
     },
     "execution_count": 8,
     "metadata": {},
     "output_type": "execute_result"
    }
   ],
   "source": [
    "df = pd.read_csv('C:/Users/RUBEN/Desktop/Machine Learning/2_IrisSpecies.csv')\n",
    "df.head()"
   ]
  },
  {
   "cell_type": "markdown",
   "id": "44bd0e5c",
   "metadata": {},
   "source": [
    "# 4. Dibujamos algunas gráficas "
   ]
  },
  {
   "cell_type": "code",
   "execution_count": 9,
   "id": "ac2fe3e1",
   "metadata": {
    "ExecuteTime": {
     "end_time": "2021-07-05T17:55:33.355682Z",
     "start_time": "2021-07-05T17:55:33.263923Z"
    }
   },
   "outputs": [],
   "source": [
    "# https://seaborn.pydata.org/installing.html\n",
    "# Seaborn is a Python data visualization library based on matplotlib. It provides a high-level interface \n",
    "# for drawing attractive and informative statistical graphics.\n",
    "\n",
    "# Previamente en el CMD, si no estaba instalado el paquete previamente:\n",
    "# pip install seaborn\n",
    "\n",
    "import seaborn as sns"
   ]
  },
  {
   "cell_type": "code",
   "execution_count": 10,
   "id": "e077eb3d",
   "metadata": {
    "ExecuteTime": {
     "end_time": "2021-07-05T17:55:33.807470Z",
     "start_time": "2021-07-05T17:55:33.361662Z"
    }
   },
   "outputs": [
    {
     "data": {
      "image/png": "[encoded data removed]",
      "text/plain": [
       "<Figure size 448.85x345.6 with 1 Axes>"
      ]
     },
     "metadata": {
      "needs_background": "light"
     },
     "output_type": "display_data"
    }
   ],
   "source": [
    "# Para el pétalo:\n",
    "\n",
    "sns.FacetGrid(df, hue='Species', height=4.8) \\\n",
    "    .map(plt.scatter, 'PetalLengthCm', 'PetalWidthCm') \\\n",
    "    .add_legend()\n",
    "\n",
    "plt.title('Species en función del largo y ancho del pétalo')\n",
    "plt.show()"
   ]
  },
  {
   "cell_type": "code",
   "execution_count": 11,
   "id": "f89005c0",
   "metadata": {
    "ExecuteTime": {
     "end_time": "2021-07-05T17:55:34.227347Z",
     "start_time": "2021-07-05T17:55:33.811460Z"
    }
   },
   "outputs": [
    {
     "data": {
      "image/png": "[encoded data removed]",
      "text/plain": [
       "<Figure size 448.85x345.6 with 1 Axes>"
      ]
     },
     "metadata": {
      "needs_background": "light"
     },
     "output_type": "display_data"
    }
   ],
   "source": [
    "# Para el sépalo:\n",
    "\n",
    "sns.FacetGrid(df, hue='Species', height = 4.8) \\\n",
    "    .map(plt.scatter, 'SepalLengthCm', 'SepalWidthCm') \\\n",
    "    .add_legend() \\\n",
    "    .set(title = 'Species en función del largo y ancho del sépalo')\n",
    "\n",
    "# plt.title('Species en función del largo y ancho del sépalo')\n",
    "plt.show()"
   ]
  },
  {
   "cell_type": "code",
   "execution_count": 12,
   "id": "334a4a86",
   "metadata": {
    "ExecuteTime": {
     "end_time": "2021-07-05T17:55:34.242308Z",
     "start_time": "2021-07-05T17:55:34.231339Z"
    }
   },
   "outputs": [],
   "source": [
    "# Es decir, para la Iris-setosa vemos que tienen un tamaño característico de 4.3-5.8 cm de largo \n",
    "# y un ancho mayor a 2.9 cm.\n",
    "# Las demás tienen tamaños muy dispersos."
   ]
  },
  {
   "cell_type": "markdown",
   "id": "c5329149",
   "metadata": {},
   "source": [
    "# 5. Observamos la información de la que disponemos "
   ]
  },
  {
   "cell_type": "markdown",
   "id": "b99b0176",
   "metadata": {},
   "source": [
    "###### y hago algunas transformaciones, si lo necesito"
   ]
  },
  {
   "cell_type": "markdown",
   "id": "abd498c3",
   "metadata": {},
   "source": [
    "#### 5.1. Eliminamos columnas sin información relevante"
   ]
  },
  {
   "cell_type": "code",
   "execution_count": 13,
   "id": "3856f451",
   "metadata": {
    "ExecuteTime": {
     "end_time": "2021-07-05T17:55:34.273254Z",
     "start_time": "2021-07-05T17:55:34.246297Z"
    }
   },
   "outputs": [
    {
     "data": {
      "text/html": [
       "<div>\n",
       "<style scoped>\n",
       "    .dataframe tbody tr th:only-of-type {\n",
       "        vertical-align: middle;\n",
       "    }\n",
       "\n",
       "    .dataframe tbody tr th {\n",
       "        vertical-align: top;\n",
       "    }\n",
       "\n",
       "    .dataframe thead th {\n",
       "        text-align: right;\n",
       "    }\n",
       "</style>\n",
       "<table border=\"1\" class=\"dataframe\">\n",
       "  <thead>\n",
       "    <tr style=\"text-align: right;\">\n",
       "      <th></th>\n",
       "      <th>SepalLengthCm</th>\n",
       "      <th>SepalWidthCm</th>\n",
       "      <th>PetalLengthCm</th>\n",
       "      <th>PetalWidthCm</th>\n",
       "      <th>Species</th>\n",
       "    </tr>\n",
       "  </thead>\n",
       "  <tbody>\n",
       "    <tr>\n",
       "      <th>0</th>\n",
       "      <td>5.1</td>\n",
       "      <td>3.5</td>\n",
       "      <td>1.4</td>\n",
       "      <td>0.2</td>\n",
       "      <td>Iris-setosa</td>\n",
       "    </tr>\n",
       "    <tr>\n",
       "      <th>1</th>\n",
       "      <td>4.9</td>\n",
       "      <td>3.0</td>\n",
       "      <td>1.4</td>\n",
       "      <td>0.2</td>\n",
       "      <td>Iris-setosa</td>\n",
       "    </tr>\n",
       "  </tbody>\n",
       "</table>\n",
       "</div>"
      ],
      "text/plain": [
       "   SepalLengthCm  SepalWidthCm  PetalLengthCm  PetalWidthCm      Species\n",
       "0            5.1           3.5            1.4           0.2  Iris-setosa\n",
       "1            4.9           3.0            1.4           0.2  Iris-setosa"
      ]
     },
     "execution_count": 13,
     "metadata": {},
     "output_type": "execute_result"
    }
   ],
   "source": [
    "df = df.drop('Id', axis=1)\n",
    "\n",
    "# La columna 'Id' no aporta ninguna información útil\n",
    "# axis = 1 indica que borre por columnas.\n",
    "\n",
    "# Imprimimos las 2 primeras filas para comprobar que se ha borrado la columna 'Id':\n",
    "df.head(2)"
   ]
  },
  {
   "cell_type": "markdown",
   "id": "11305d2a",
   "metadata": {
    "ExecuteTime": {
     "end_time": "2021-07-05T15:11:48.123745Z",
     "start_time": "2021-07-05T15:11:48.111814Z"
    }
   },
   "source": [
    "#### 5.2. Modificamos la información para poder utilizarla según nos convenga --> Texto en número "
   ]
  },
  {
   "cell_type": "code",
   "execution_count": 14,
   "id": "ed29c077",
   "metadata": {
    "ExecuteTime": {
     "end_time": "2021-07-05T17:55:34.289183Z",
     "start_time": "2021-07-05T17:55:34.277215Z"
    }
   },
   "outputs": [
    {
     "data": {
      "text/plain": [
       "Index(['SepalLengthCm', 'SepalWidthCm', 'PetalLengthCm', 'PetalWidthCm',\n",
       "       'Species'],\n",
       "      dtype='object')"
      ]
     },
     "execution_count": 14,
     "metadata": {},
     "output_type": "execute_result"
    }
   ],
   "source": [
    "# Para ver el nombre de las columnas en las que se clasifican los datos:\n",
    "df.columns"
   ]
  },
  {
   "cell_type": "code",
   "execution_count": 15,
   "id": "9e04f67d",
   "metadata": {
    "ExecuteTime": {
     "end_time": "2021-07-05T17:55:34.320105Z",
     "start_time": "2021-07-05T17:55:34.292177Z"
    }
   },
   "outputs": [
    {
     "data": {
      "text/plain": [
       "Iris-virginica     50\n",
       "Iris-versicolor    50\n",
       "Iris-setosa        50\n",
       "Name: Species, dtype: int64"
      ]
     },
     "execution_count": 15,
     "metadata": {},
     "output_type": "execute_result"
    }
   ],
   "source": [
    "# Para obtener información sobre una columna utilizamos\n",
    "# .value_counts()\n",
    "# nombreDataFrame.nombreColumna.value_counts()\n",
    "# nos permite sabe cuántos tipos de salida distintos tenemos y su repetición en esa columna:\n",
    "\n",
    "df.Species.value_counts()"
   ]
  },
  {
   "cell_type": "code",
   "execution_count": 16,
   "id": "f8fb04e8",
   "metadata": {
    "ExecuteTime": {
     "end_time": "2021-07-05T17:55:34.365976Z",
     "start_time": "2021-07-05T17:55:34.327083Z"
    }
   },
   "outputs": [
    {
     "data": {
      "text/html": [
       "<div>\n",
       "<style scoped>\n",
       "    .dataframe tbody tr th:only-of-type {\n",
       "        vertical-align: middle;\n",
       "    }\n",
       "\n",
       "    .dataframe tbody tr th {\n",
       "        vertical-align: top;\n",
       "    }\n",
       "\n",
       "    .dataframe thead th {\n",
       "        text-align: right;\n",
       "    }\n",
       "</style>\n",
       "<table border=\"1\" class=\"dataframe\">\n",
       "  <thead>\n",
       "    <tr style=\"text-align: right;\">\n",
       "      <th></th>\n",
       "      <th>SepalLengthCm</th>\n",
       "      <th>SepalWidthCm</th>\n",
       "      <th>PetalLengthCm</th>\n",
       "      <th>PetalWidthCm</th>\n",
       "      <th>Species</th>\n",
       "    </tr>\n",
       "  </thead>\n",
       "  <tbody>\n",
       "    <tr>\n",
       "      <th>0</th>\n",
       "      <td>5.1</td>\n",
       "      <td>3.5</td>\n",
       "      <td>1.4</td>\n",
       "      <td>0.2</td>\n",
       "      <td>0</td>\n",
       "    </tr>\n",
       "    <tr>\n",
       "      <th>1</th>\n",
       "      <td>4.9</td>\n",
       "      <td>3.0</td>\n",
       "      <td>1.4</td>\n",
       "      <td>0.2</td>\n",
       "      <td>0</td>\n",
       "    </tr>\n",
       "    <tr>\n",
       "      <th>2</th>\n",
       "      <td>4.7</td>\n",
       "      <td>3.2</td>\n",
       "      <td>1.3</td>\n",
       "      <td>0.2</td>\n",
       "      <td>0</td>\n",
       "    </tr>\n",
       "    <tr>\n",
       "      <th>3</th>\n",
       "      <td>4.6</td>\n",
       "      <td>3.1</td>\n",
       "      <td>1.5</td>\n",
       "      <td>0.2</td>\n",
       "      <td>0</td>\n",
       "    </tr>\n",
       "    <tr>\n",
       "      <th>4</th>\n",
       "      <td>5.0</td>\n",
       "      <td>3.6</td>\n",
       "      <td>1.4</td>\n",
       "      <td>0.2</td>\n",
       "      <td>0</td>\n",
       "    </tr>\n",
       "  </tbody>\n",
       "</table>\n",
       "</div>"
      ],
      "text/plain": [
       "   SepalLengthCm  SepalWidthCm  PetalLengthCm  PetalWidthCm  Species\n",
       "0            5.1           3.5            1.4           0.2        0\n",
       "1            4.9           3.0            1.4           0.2        0\n",
       "2            4.7           3.2            1.3           0.2        0\n",
       "3            4.6           3.1            1.5           0.2        0\n",
       "4            5.0           3.6            1.4           0.2        0"
      ]
     },
     "execution_count": 16,
     "metadata": {},
     "output_type": "execute_result"
    }
   ],
   "source": [
    "# Modifico los 3 nombres de Species en los números 0-1-2 y se los asignamos a la columna.\n",
    "\n",
    "# Para ello utilizamos .map() para transformar el texto en números (existen más formas de hacerlo):\n",
    "df.Species = df.Species.map({'Iris-setosa': 0, 'Iris-versicolor': 1, 'Iris-virginica': 2})\n",
    "# Comprobamos que se ha producido el cambio:\n",
    "df.head()"
   ]
  },
  {
   "cell_type": "code",
   "execution_count": 17,
   "id": "4b327aad",
   "metadata": {
    "ExecuteTime": {
     "end_time": "2021-07-05T17:55:34.380936Z",
     "start_time": "2021-07-05T17:55:34.368971Z"
    }
   },
   "outputs": [],
   "source": [
    "# Podemos crear una lista con los datos de la columna 'Species' para almacenarlos y trabajar con ellos.\n",
    "# .tolist() permite transformar la información de una columna en una lista.\n",
    "\n",
    "#df.Species.tolist()"
   ]
  },
  {
   "cell_type": "code",
   "execution_count": 18,
   "id": "3b3f89ea",
   "metadata": {
    "ExecuteTime": {
     "end_time": "2021-07-05T17:55:34.396895Z",
     "start_time": "2021-07-05T17:55:34.384935Z"
    }
   },
   "outputs": [
    {
     "data": {
      "text/plain": [
       "array([0, 0, 0, 0, 0, 0, 0, 0, 0, 0, 0, 0, 0, 0, 0, 0, 0, 0, 0, 0, 0, 0,\n",
       "       0, 0, 0, 0, 0, 0, 0, 0, 0, 0, 0, 0, 0, 0, 0, 0, 0, 0, 0, 0, 0, 0,\n",
       "       0, 0, 0, 0, 0, 0, 1, 1, 1, 1, 1, 1, 1, 1, 1, 1, 1, 1, 1, 1, 1, 1,\n",
       "       1, 1, 1, 1, 1, 1, 1, 1, 1, 1, 1, 1, 1, 1, 1, 1, 1, 1, 1, 1, 1, 1,\n",
       "       1, 1, 1, 1, 1, 1, 1, 1, 1, 1, 1, 1, 2, 2, 2, 2, 2, 2, 2, 2, 2, 2,\n",
       "       2, 2, 2, 2, 2, 2, 2, 2, 2, 2, 2, 2, 2, 2, 2, 2, 2, 2, 2, 2, 2, 2,\n",
       "       2, 2, 2, 2, 2, 2, 2, 2, 2, 2, 2, 2, 2, 2, 2, 2, 2, 2])"
      ]
     },
     "execution_count": 18,
     "metadata": {},
     "output_type": "execute_result"
    }
   ],
   "source": [
    "# Para que quede más ordenado al imprimirlo por pantalla podemos utilizar:\n",
    "# np.array()\n",
    "np.array(df.Species.tolist())"
   ]
  },
  {
   "cell_type": "code",
   "execution_count": 19,
   "id": "35d17740",
   "metadata": {
    "ExecuteTime": {
     "end_time": "2021-07-05T17:55:34.427818Z",
     "start_time": "2021-07-05T17:55:34.402890Z"
    }
   },
   "outputs": [
    {
     "name": "stdout",
     "output_type": "stream",
     "text": [
      "[0 0 0 0 0 0 0 0 0 0 0 0 0 0 0 0 0 0 0 0 0 0 0 0 0 0 0 0 0 0 0 0 0 0 0 0 0\n",
      " 0 0 0 0 0 0 0 0 0 0 0 0 0 1 1 1 1 1 1 1 1 1 1 1 1 1 1 1 1 1 1 1 1 1 1 1 1\n",
      " 1 1 1 1 1 1 1 1 1 1 1 1 1 1 1 1 1 1 1 1 1 1 1 1 1 1 2 2 2 2 2 2 2 2 2 2 2\n",
      " 2 2 2 2 2 2 2 2 2 2 2 2 2 2 2 2 2 2 2 2 2 2 2 2 2 2 2 2 2 2 2 2 2 2 2 2 2\n",
      " 2 2]\n"
     ]
    }
   ],
   "source": [
    "# Y para que lo muestre sin el nombre 'array([...])', lo printeamos:\n",
    "print(np.array(df.Species.tolist()))"
   ]
  },
  {
   "cell_type": "code",
   "execution_count": 20,
   "id": "0b7a9f69",
   "metadata": {
    "ExecuteTime": {
     "end_time": "2021-07-05T17:55:34.443771Z",
     "start_time": "2021-07-05T17:55:34.430803Z"
    }
   },
   "outputs": [],
   "source": [
    "# OTRA FORMA:\n",
    "    # Podríamos utilizar un bucle, pero .map es más rápido."
   ]
  },
  {
   "cell_type": "markdown",
   "id": "9ce38541",
   "metadata": {},
   "source": [
    "#### NOTAS: \n",
    "Este dataset no requiere de escalado de datos para evitar que la calidad de las predicciones se vea afectada. <br>\n",
    "Ver: https://interactivechaos.com/es/manual/tutorial-de-machine-learning/escalado-de-datos"
   ]
  },
  {
   "cell_type": "markdown",
   "id": "c4289aa5",
   "metadata": {},
   "source": [
    "# 6. Establezco las matrices X e y "
   ]
  },
  {
   "cell_type": "markdown",
   "id": "eeb98012",
   "metadata": {},
   "source": [
    "<ul>\n",
    "    <li>X es la información a proporcionar --> Input = entrada</li>\n",
    "    <li>y es la información a predecir ¿y es una matriz columna? --> Output = salida</li>\n",
    "</ul>\n",
    "\n",
    "Vamos a predecir el tipo de especie a partir de los datos que se nos den sobre sus pétalos y sépalos."
   ]
  },
  {
   "cell_type": "code",
   "execution_count": 21,
   "id": "88a03f5d",
   "metadata": {
    "ExecuteTime": {
     "end_time": "2021-07-05T17:55:34.473690Z",
     "start_time": "2021-07-05T17:55:34.447759Z"
    }
   },
   "outputs": [
    {
     "data": {
      "text/html": [
       "<div>\n",
       "<style scoped>\n",
       "    .dataframe tbody tr th:only-of-type {\n",
       "        vertical-align: middle;\n",
       "    }\n",
       "\n",
       "    .dataframe tbody tr th {\n",
       "        vertical-align: top;\n",
       "    }\n",
       "\n",
       "    .dataframe thead th {\n",
       "        text-align: right;\n",
       "    }\n",
       "</style>\n",
       "<table border=\"1\" class=\"dataframe\">\n",
       "  <thead>\n",
       "    <tr style=\"text-align: right;\">\n",
       "      <th></th>\n",
       "      <th>SepalLengthCm</th>\n",
       "      <th>SepalWidthCm</th>\n",
       "      <th>PetalLengthCm</th>\n",
       "      <th>PetalWidthCm</th>\n",
       "    </tr>\n",
       "  </thead>\n",
       "  <tbody>\n",
       "    <tr>\n",
       "      <th>0</th>\n",
       "      <td>5.1</td>\n",
       "      <td>3.5</td>\n",
       "      <td>1.4</td>\n",
       "      <td>0.2</td>\n",
       "    </tr>\n",
       "    <tr>\n",
       "      <th>1</th>\n",
       "      <td>4.9</td>\n",
       "      <td>3.0</td>\n",
       "      <td>1.4</td>\n",
       "      <td>0.2</td>\n",
       "    </tr>\n",
       "    <tr>\n",
       "      <th>2</th>\n",
       "      <td>4.7</td>\n",
       "      <td>3.2</td>\n",
       "      <td>1.3</td>\n",
       "      <td>0.2</td>\n",
       "    </tr>\n",
       "    <tr>\n",
       "      <th>3</th>\n",
       "      <td>4.6</td>\n",
       "      <td>3.1</td>\n",
       "      <td>1.5</td>\n",
       "      <td>0.2</td>\n",
       "    </tr>\n",
       "    <tr>\n",
       "      <th>4</th>\n",
       "      <td>5.0</td>\n",
       "      <td>3.6</td>\n",
       "      <td>1.4</td>\n",
       "      <td>0.2</td>\n",
       "    </tr>\n",
       "  </tbody>\n",
       "</table>\n",
       "</div>"
      ],
      "text/plain": [
       "   SepalLengthCm  SepalWidthCm  PetalLengthCm  PetalWidthCm\n",
       "0            5.1           3.5            1.4           0.2\n",
       "1            4.9           3.0            1.4           0.2\n",
       "2            4.7           3.2            1.3           0.2\n",
       "3            4.6           3.1            1.5           0.2\n",
       "4            5.0           3.6            1.4           0.2"
      ]
     },
     "execution_count": 21,
     "metadata": {},
     "output_type": "execute_result"
    }
   ],
   "source": [
    "# X = los datos sobre los pétalos y sépalos:\n",
    "X = df.drop('Species', axis = 1)\n",
    "# Comprobamos que se ahya eliminado la columna 'Species'\n",
    "X.head()"
   ]
  },
  {
   "cell_type": "code",
   "execution_count": 22,
   "id": "780653a6",
   "metadata": {
    "ExecuteTime": {
     "end_time": "2021-07-05T17:55:34.504606Z",
     "start_time": "2021-07-05T17:55:34.476693Z"
    }
   },
   "outputs": [
    {
     "data": {
      "text/plain": [
       "0      0\n",
       "1      0\n",
       "2      0\n",
       "3      0\n",
       "4      0\n",
       "      ..\n",
       "145    2\n",
       "146    2\n",
       "147    2\n",
       "148    2\n",
       "149    2\n",
       "Name: Species, Length: 150, dtype: int64"
      ]
     },
     "execution_count": 22,
     "metadata": {},
     "output_type": "execute_result"
    }
   ],
   "source": [
    "# y = la salida, la información a predecir, será solamente la columna Species.\n",
    "y = df['Species']\n",
    "# Comprobamos:\n",
    "y"
   ]
  },
  {
   "cell_type": "markdown",
   "id": "f3f07bf0",
   "metadata": {},
   "source": [
    "# 7. Divido mi set de datos en: train, test\n",
    "#### (set de entrenamiento y set para testeo, respectivamente)"
   ]
  },
  {
   "cell_type": "code",
   "execution_count": 23,
   "id": "f3230d75",
   "metadata": {
    "ExecuteTime": {
     "end_time": "2021-07-05T17:55:34.566443Z",
     "start_time": "2021-07-05T17:55:34.506600Z"
    }
   },
   "outputs": [],
   "source": [
    "# Instalamos con el CMD el módulo sklearn.\n",
    "# pip install sklearn\n",
    "\n",
    "from sklearn.model_selection import train_test_split\n"
   ]
  },
  {
   "cell_type": "code",
   "execution_count": 24,
   "id": "0031c03c",
   "metadata": {
    "ExecuteTime": {
     "end_time": "2021-07-05T17:55:34.596362Z",
     "start_time": "2021-07-05T17:55:34.570431Z"
    }
   },
   "outputs": [],
   "source": [
    "# Separo los datos de la siguiente forma aleatoria(por ejemplo):\n",
    "# 80% para train (entrenamiento): 80% de 150 = 120\n",
    "# 20% para test (prueba)        : 20% de 150 = 30\n",
    "\n",
    "# train_size = 0.80 indica el 80% para el entrenamiento.\n",
    "# random_state = 0 sirve para obtener siempre el mismo resultado\n",
    "\n",
    "X_train, X_test, y_train, y_test = train_test_split(X, y, train_size = 0.80, random_state = 0)\n",
    "\n",
    "# Nota: POR DEFECTO ES 75% PARA TRAIN Y 25% PARA TEST SI NO SE ESPECIFICA NI test_size ni train_size\n",
    "\n",
    "# NOTA:\n",
    "# En aquellos casos que hubiera problema al entrenar con los algoritmos:\n",
    "# 1 típica forma de solucionarlo es:\n",
    "# X_train = X_train.values\n",
    "# y_train = y_train.values\n",
    "# X_test = X_test.values\n",
    "# y_test = y_test.values"
   ]
  },
  {
   "cell_type": "code",
   "execution_count": 25,
   "id": "50d2f7df",
   "metadata": {
    "ExecuteTime": {
     "end_time": "2021-07-05T17:55:34.612318Z",
     "start_time": "2021-07-05T17:55:34.600351Z"
    }
   },
   "outputs": [
    {
     "data": {
      "text/plain": [
       "SepalLengthCm    30\n",
       "SepalWidthCm     30\n",
       "PetalLengthCm    30\n",
       "PetalWidthCm     30\n",
       "dtype: int64"
      ]
     },
     "execution_count": 25,
     "metadata": {},
     "output_type": "execute_result"
    }
   ],
   "source": [
    "X_test.count()"
   ]
  },
  {
   "cell_type": "code",
   "execution_count": 26,
   "id": "60ed3e56",
   "metadata": {
    "ExecuteTime": {
     "end_time": "2021-07-05T17:55:34.643246Z",
     "start_time": "2021-07-05T17:55:34.616308Z"
    }
   },
   "outputs": [
    {
     "data": {
      "text/plain": [
       "SepalLengthCm    120\n",
       "SepalWidthCm     120\n",
       "PetalLengthCm    120\n",
       "PetalWidthCm     120\n",
       "dtype: int64"
      ]
     },
     "execution_count": 26,
     "metadata": {},
     "output_type": "execute_result"
    }
   ],
   "source": [
    "X_train.count()"
   ]
  },
  {
   "cell_type": "code",
   "execution_count": 27,
   "id": "823f4ffc",
   "metadata": {
    "ExecuteTime": {
     "end_time": "2021-07-05T17:55:34.658195Z",
     "start_time": "2021-07-05T17:55:34.647229Z"
    }
   },
   "outputs": [
    {
     "data": {
      "text/plain": [
       "120"
      ]
     },
     "execution_count": 27,
     "metadata": {},
     "output_type": "execute_result"
    }
   ],
   "source": [
    "y_train.count()"
   ]
  },
  {
   "cell_type": "code",
   "execution_count": 28,
   "id": "26cb120a",
   "metadata": {
    "ExecuteTime": {
     "end_time": "2021-07-05T17:55:34.690109Z",
     "start_time": "2021-07-05T17:55:34.668173Z"
    }
   },
   "outputs": [
    {
     "data": {
      "text/plain": [
       "30"
      ]
     },
     "execution_count": 28,
     "metadata": {},
     "output_type": "execute_result"
    }
   ],
   "source": [
    "y_test.count()"
   ]
  },
  {
   "cell_type": "markdown",
   "id": "9062032f",
   "metadata": {},
   "source": [
    "# 8. Machine Learning y Algoritmos --> 1ª predicción \n",
    "#### Lo 1º será decidir si estamos ante un problema de regresión, clasificación o clustering.\n",
    "#### En este caso es un problema de Clasificación Multivariable (posibles salidas: 0, 1 y 2)\n",
    "#### Por lo tanto, tenemos que elegir un Clasificador --> \n",
    "### DecisionTreeClassifier del módulo sklearn"
   ]
  },
  {
   "cell_type": "code",
   "execution_count": 29,
   "id": "677ed3c7",
   "metadata": {
    "ExecuteTime": {
     "end_time": "2021-07-05T17:55:34.859656Z",
     "start_time": "2021-07-05T17:55:34.694099Z"
    }
   },
   "outputs": [],
   "source": [
    "from sklearn.tree import DecisionTreeClassifier"
   ]
  },
  {
   "cell_type": "markdown",
   "id": "f6a16f35",
   "metadata": {},
   "source": [
    "Pasos tras decidir nuestro clasificador:\n",
    "<ol>\n",
    "    <li>Entreno con: X_train, y_train</li>\n",
    "    <li>Le proporciono entonoces los datos de X_test, con la idea de que sea capaz de predecir por sí solo y_test (en base al aprendizaje adquirido por X_train e y_train) y dado que para ciertos valores 'X' sale una 'y' concreta. Esta predicción lo guarda en <b>y_pred</b>. Recordemos que estamos tratando de predecir <b>y_test</b>, que ya SABEMOS lo que vale.</li>\n",
    "    <li>Analizamos la fiabilidad del modelo (accuracy), que símplemente testea cuántos 'aciertos' tiene nuestra predicción.</li>\n",
    "<ol>"
   ]
  },
  {
   "cell_type": "code",
   "execution_count": 30,
   "id": "1d398ce9",
   "metadata": {
    "ExecuteTime": {
     "end_time": "2021-07-05T17:55:34.890573Z",
     "start_time": "2021-07-05T17:55:34.862651Z"
    }
   },
   "outputs": [
    {
     "data": {
      "text/plain": [
       "array([2, 1, 0, 2, 0, 2, 0, 1, 1, 1, 2, 1, 1, 1, 1, 0, 1, 1, 0, 0, 2, 1,\n",
       "       0, 0, 2, 0, 0, 1, 1, 0], dtype=int64)"
      ]
     },
     "execution_count": 30,
     "metadata": {},
     "output_type": "execute_result"
    }
   ],
   "source": [
    "# 1 - Nuestro clasificador (clf) será DecisionTreeClassifier\n",
    "clf = DecisionTreeClassifier()\n",
    "# 2 - Entreno con los datos de entrenamiento, que indico entre paréntesis.\n",
    "clf.fit(X_train, y_train)\n",
    "# 3 - Realizo la predicción --> trato de obtener los datos de y_test y lo almaceno en y_pred (y predecida)\n",
    "y_pred = clf.predict(X_test)\n",
    "# Imprimo esa predicción\n",
    "y_pred"
   ]
  },
  {
   "cell_type": "markdown",
   "id": "a36ef25a",
   "metadata": {},
   "source": [
    "# 9. Evalúo el modelo"
   ]
  },
  {
   "cell_type": "markdown",
   "id": "b630566d",
   "metadata": {},
   "source": [
    "### 9.1. Forma 1\n",
    "Una posible forma para ello es utilizar <b>accuracy_score</b> del módulo sklearn.metrics. Existen muchas otras, pero con esta sería suficiente por ahora."
   ]
  },
  {
   "cell_type": "code",
   "execution_count": 31,
   "id": "ae6451c3",
   "metadata": {
    "ExecuteTime": {
     "end_time": "2021-07-05T17:55:34.905533Z",
     "start_time": "2021-07-05T17:55:34.893566Z"
    }
   },
   "outputs": [],
   "source": [
    "from sklearn.metrics import accuracy_score"
   ]
  },
  {
   "cell_type": "code",
   "execution_count": 32,
   "id": "590e21e9",
   "metadata": {
    "ExecuteTime": {
     "end_time": "2021-07-05T17:55:34.921493Z",
     "start_time": "2021-07-05T17:55:34.909524Z"
    }
   },
   "outputs": [
    {
     "data": {
      "text/plain": [
       "1.0"
      ]
     },
     "execution_count": 32,
     "metadata": {},
     "output_type": "execute_result"
    }
   ],
   "source": [
    "# Me dice que % de coincidencia hay entre y_test e y_pred\n",
    "acc = accuracy_score(y_test,y_pred)\n",
    "acc"
   ]
  },
  {
   "cell_type": "markdown",
   "id": "4a1338e2",
   "metadata": {},
   "source": [
    "### 9.2. Forma 2"
   ]
  },
  {
   "cell_type": "code",
   "execution_count": 33,
   "id": "6d7f5492",
   "metadata": {
    "ExecuteTime": {
     "end_time": "2021-07-05T17:55:34.952410Z",
     "start_time": "2021-07-05T17:55:34.925487Z"
    }
   },
   "outputs": [
    {
     "name": "stdout",
     "output_type": "stream",
     "text": [
      "30\n"
     ]
    }
   ],
   "source": [
    "# 1.0 indica que el 100% de los datos han sido predecidos corréctamente.\n",
    "\n",
    "# ¿Cómo trabaja accaccuracy_score? Como un contador de la siguiente manera:\n",
    "    # Transformamos y_test e y_pred en una lista de datos con .tolist()\n",
    "y_test = y_test.tolist()\n",
    "y_pred = y_pred.tolist()\n",
    "    # Creamos un contador para averiguar cuántas fueron correctas, iniciándolo en 0:\n",
    "aciertos = 0\n",
    "    # lo que hacemos es crear un bucle for que va de 1 en 1 comprobando cuáles son iguales:\n",
    "for i in range(len(y_test)):\n",
    "    if y_test[i] == y_pred[i]:\n",
    "        aciertos += 1\n",
    "\n",
    "print(aciertos)"
   ]
  },
  {
   "cell_type": "code",
   "execution_count": 34,
   "id": "af83afb7",
   "metadata": {
    "ExecuteTime": {
     "end_time": "2021-07-05T17:55:34.967371Z",
     "start_time": "2021-07-05T17:55:34.955402Z"
    }
   },
   "outputs": [
    {
     "name": "stdout",
     "output_type": "stream",
     "text": [
      "1.0\n",
      "100.0\n"
     ]
    }
   ],
   "source": [
    "aciertos_proporcion = aciertos/len(y_test)\n",
    "print(aciertos_proporcion)\n",
    "porcentaje_aciertos = aciertos_proporcion*100\n",
    "print(porcentaje_aciertos)"
   ]
  },
  {
   "cell_type": "markdown",
   "id": "48c95f81",
   "metadata": {},
   "source": [
    "# 10. Machine Learning y Algoritmos --> 2ª división de datos, predicción y evaluación\n",
    "#### Lo 1º será decidir si estamos ante un problema de regresión, clasificación o clustering.\n",
    "#### En este caso es un problema de Clasificación Multivariable (posibles salidas: 0, 1 y 2)\n",
    "#### Por lo tanto, tenemos que elegir un Clasificador --> \n",
    "### DecisionTreeClassifier del módulo sklearn"
   ]
  },
  {
   "cell_type": "code",
   "execution_count": 35,
   "id": "d7dc6bf9",
   "metadata": {
    "ExecuteTime": {
     "end_time": "2021-07-05T17:55:34.982330Z",
     "start_time": "2021-07-05T17:55:34.973353Z"
    }
   },
   "outputs": [],
   "source": [
    "# Separo los datos de la siguiente forma aleatoria(por ejemplo):\n",
    "# 20% para train (entrenamiento): 20% de 150 = 30\n",
    "# 80% para test (prueba)        : 80% de 150 = 120\n",
    "\n",
    "# train_size = 0.20 indica el 20% para el entrenamiento.\n",
    "# random_state = 0 sirve para obtener siempre el mismo resultado\n",
    "\n",
    "X_train, X_test, y_train, y_test = train_test_split(X, y, train_size = 0.20, random_state = 0)\n",
    "\n",
    "# Nota: POR DEFECTO ES 75% PARA TRAIN Y 25% PARA TEST SI NO SE ESPECIFICA NI test_size ni train_size"
   ]
  },
  {
   "cell_type": "code",
   "execution_count": 36,
   "id": "63ac8cfa",
   "metadata": {
    "ExecuteTime": {
     "end_time": "2021-07-05T17:55:35.014243Z",
     "start_time": "2021-07-05T17:55:34.988320Z"
    }
   },
   "outputs": [
    {
     "name": "stdout",
     "output_type": "stream",
     "text": [
      "SepalLengthCm    120\n",
      "SepalWidthCm     120\n",
      "PetalLengthCm    120\n",
      "PetalWidthCm     120\n",
      "dtype: int64\n",
      "SepalLengthCm    30\n",
      "SepalWidthCm     30\n",
      "PetalLengthCm    30\n",
      "PetalWidthCm     30\n",
      "dtype: int64\n",
      "30\n",
      "120\n"
     ]
    }
   ],
   "source": [
    "print(X_test.count())\n",
    "\n",
    "print(X_train.count())\n",
    "\n",
    "print(y_train.count())\n",
    "\n",
    "print(y_test.count())"
   ]
  },
  {
   "cell_type": "code",
   "execution_count": 37,
   "id": "821a8e79",
   "metadata": {
    "ExecuteTime": {
     "end_time": "2021-07-05T17:55:35.045171Z",
     "start_time": "2021-07-05T17:55:35.019230Z"
    }
   },
   "outputs": [
    {
     "data": {
      "text/plain": [
       "array([2, 1, 0, 2, 0, 2, 0, 1, 1, 1, 2, 1, 1, 1, 1, 0, 1, 1, 0, 0, 1, 1,\n",
       "       0, 0, 1, 0, 0, 1, 1, 0, 2, 1, 0, 1, 2, 1, 0, 2, 1, 1, 2, 0, 2, 0,\n",
       "       0, 1, 2, 2, 1, 2, 1, 2, 1, 1, 1, 2, 1, 1, 1, 2, 1, 0, 2, 1, 1, 1,\n",
       "       1, 2, 0, 0, 2, 1, 0, 0, 1, 0, 2, 1, 0, 1, 2, 1, 0, 2, 2, 2, 2, 0,\n",
       "       0, 2, 2, 0, 2, 0, 1, 2, 0, 0, 2, 0, 0, 0, 1, 2, 2, 0, 0, 0, 1, 1,\n",
       "       0, 0, 1, 0, 2, 1, 2, 1, 0, 1], dtype=int64)"
      ]
     },
     "execution_count": 37,
     "metadata": {},
     "output_type": "execute_result"
    }
   ],
   "source": [
    "# 1 - Nuestro clasificador (clf) será DecisionTreeClassifier\n",
    "clf = DecisionTreeClassifier()\n",
    "# 2 - Entreno con los datos de entrenamiento, que indico entre paréntesis.\n",
    "clf.fit(X_train, y_train)\n",
    "# 3 - Realizo la predicción --> trato de obtener los datos de y_test y lo almaceno en y_pred (y predecida)\n",
    "y_pred = clf.predict(X_test)\n",
    "# Imprimo esa predicción\n",
    "y_pred"
   ]
  },
  {
   "cell_type": "code",
   "execution_count": 38,
   "id": "89bd4b8a",
   "metadata": {
    "ExecuteTime": {
     "end_time": "2021-07-05T17:55:35.060121Z",
     "start_time": "2021-07-05T17:55:35.048153Z"
    }
   },
   "outputs": [
    {
     "data": {
      "text/plain": [
       "0.9166666666666666"
      ]
     },
     "execution_count": 38,
     "metadata": {},
     "output_type": "execute_result"
    }
   ],
   "source": [
    "# Me dice que % de coincidencia hay entre y_test e y_pred\n",
    "acc = accuracy_score(y_test,y_pred)\n",
    "acc"
   ]
  },
  {
   "cell_type": "code",
   "execution_count": 39,
   "id": "823e98bf",
   "metadata": {
    "ExecuteTime": {
     "end_time": "2021-07-05T17:55:35.090040Z",
     "start_time": "2021-07-05T17:55:35.065108Z"
    }
   },
   "outputs": [
    {
     "name": "stdout",
     "output_type": "stream",
     "text": [
      "110\n",
      "0.9166666666666666\n",
      "91.66666666666666\n"
     ]
    }
   ],
   "source": [
    "# 0.9166666666666666 indica que el 91.66% de los datos han sido predecidos corréctamente.\n",
    "\n",
    "# ¿Cómo trabaja accaccuracy_score? Como un contador de la siguiente manera:\n",
    "    # Transformamos y_test e y_pred en una lista de datos con .tolist()\n",
    "y_test = y_test.tolist()\n",
    "y_pred = y_pred.tolist()\n",
    "    # Creamos un contador para averiguar cuántas fueron correctas, iniciándolo en 0:\n",
    "aciertos = 0\n",
    "    # lo que hacemos es crear un bucle for que va de 1 en 1 comprobando cuáles son iguales:\n",
    "for i in range(len(y_test)):\n",
    "    if y_test[i] == y_pred[i]:\n",
    "        aciertos += 1\n",
    "\n",
    "print(aciertos)\n",
    "\n",
    "aciertos_proporcion = aciertos/len(y_test)\n",
    "print(aciertos_proporcion)\n",
    "porcentaje_aciertos = aciertos_proporcion*100\n",
    "print(porcentaje_aciertos)"
   ]
  },
  {
   "cell_type": "markdown",
   "id": "cb746f2e",
   "metadata": {},
   "source": [
    "# 11. Eligiendo otro clasificador\n",
    "### RandomForestClassifier del módulo sklearn.ensemble\n",
    "https://scikit-learn.org/stable/modules/generated/sklearn.ensemble.RandomForestClassifier.html"
   ]
  },
  {
   "cell_type": "code",
   "execution_count": 40,
   "id": "256a7ab8",
   "metadata": {
    "ExecuteTime": {
     "end_time": "2021-07-05T17:55:35.385035Z",
     "start_time": "2021-07-05T17:55:35.093034Z"
    }
   },
   "outputs": [
    {
     "data": {
      "text/plain": [
       "array([2, 1, 0, 2, 0, 2, 0, 1, 1, 1, 2, 1, 1, 1, 1, 0, 1, 1, 0, 0, 1, 1,\n",
       "       0, 0, 1, 0, 0, 1, 1, 0, 2, 1, 0, 1, 2, 1, 0, 1, 1, 1, 2, 0, 2, 0,\n",
       "       0, 1, 2, 2, 1, 2, 1, 2, 1, 1, 1, 1, 1, 1, 1, 2, 1, 0, 2, 1, 1, 1,\n",
       "       1, 2, 0, 0, 2, 1, 0, 0, 1, 0, 2, 1, 0, 1, 2, 1, 0, 2, 2, 2, 2, 0,\n",
       "       0, 2, 2, 0, 2, 0, 1, 2, 0, 0, 2, 0, 0, 0, 1, 2, 2, 0, 0, 0, 1, 1,\n",
       "       0, 0, 1, 0, 2, 1, 2, 1, 0, 1], dtype=int64)"
      ]
     },
     "execution_count": 40,
     "metadata": {},
     "output_type": "execute_result"
    }
   ],
   "source": [
    "from sklearn.ensemble import RandomForestClassifier\n",
    "\n",
    "# Separo los datos de la siguiente forma aleatoria(por ejemplo):\n",
    "# 20% para train (entrenamiento): 20% de 150 = 30\n",
    "# 80% para test (prueba)        : 80% de 150 = 120\n",
    "\n",
    "# train_size = 0.20 indica el 20% para el entrenamiento.\n",
    "# random_state = 0 sirve para obtener siempre el mismo resultado\n",
    "\n",
    "X_train, X_test, y_train, y_test = train_test_split(X, y, train_size = 0.20, random_state = 0)\n",
    "\n",
    "# Nota: POR DEFECTO ES 75% PARA TRAIN Y 25% PARA TEST SI NO SE ESPECIFICA NI test_size ni train_size\n",
    "\n",
    "clf = RandomForestClassifier()\n",
    "clf.fit(X_train, y_train)\n",
    "y_pred = clf.predict(X_test)\n",
    "y_pred\n"
   ]
  },
  {
   "cell_type": "code",
   "execution_count": 41,
   "id": "e35ce528",
   "metadata": {
    "ExecuteTime": {
     "end_time": "2021-07-05T17:55:35.415944Z",
     "start_time": "2021-07-05T17:55:35.395995Z"
    }
   },
   "outputs": [
    {
     "data": {
      "text/plain": [
       "0.9166666666666666"
      ]
     },
     "execution_count": 41,
     "metadata": {},
     "output_type": "execute_result"
    }
   ],
   "source": [
    "acc = accuracy_score(y_test, y_pred)\n",
    "acc"
   ]
  },
  {
   "cell_type": "markdown",
   "id": "8469d65e",
   "metadata": {},
   "source": [
    "####  Nota: Obtenemos los mismos resultados con ambos Clasificadores\n",
    "\n",
    "## CONCLUSIÓN: Cuánto mayor sea X_train e Y_train, más precisión tendremos en la predicción."
   ]
  },
  {
   "cell_type": "markdown",
   "id": "af98c5ba",
   "metadata": {},
   "source": [
    "### Nota sobre los casos prácticos:\n",
    "Lo que se suele tener es un set de datos llamado \"train.csv\" sobre el que seguimos los pasos descritos, y otro llamado \"test.csv\" sin información de 'salida', la cual debemos predecir."
   ]
  }
 ],
 "metadata": {
  "kernelspec": {
   "display_name": "Python 3 (ipykernel)",
   "language": "python",
   "name": "python3"
  },
  "language_info": {
   "codemirror_mode": {
    "name": "ipython",
    "version": 3
   },
   "file_extension": ".py",
   "mimetype": "text/x-python",
   "name": "python",
   "nbconvert_exporter": "python",
   "pygments_lexer": "ipython3",
   "version": "3.9.5"
  },
  "toc": {
   "base_numbering": 1,
   "nav_menu": {},
   "number_sections": false,
   "sideBar": true,
   "skip_h1_title": false,
   "title_cell": "Table of Contents",
   "title_sidebar": "Contents",
   "toc_cell": false,
   "toc_position": {},
   "toc_section_display": true,
   "toc_window_display": false
  }
 },
 "nbformat": 4,
 "nbformat_minor": 5
}
